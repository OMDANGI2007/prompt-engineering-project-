{
  "nbformat": 4,
  "nbformat_minor": 0,
  "metadata": {
    "colab": {
      "provenance": []
    },
    "kernelspec": {
      "name": "python3",
      "display_name": "Python 3"
    },
    "language_info": {
      "name": "python"
    }
  },
  "cells": [
    {
      "cell_type": "code",
      "execution_count": null,
      "metadata": {
        "colab": {
          "base_uri": "https://localhost:8080/",
          "height": 645
        },
        "id": "RAfV8BSjIUed",
        "outputId": "8aef8adc-48c7-415c-9946-dcb7873154e5"
      },
      "outputs": [
        {
          "output_type": "stream",
          "name": "stdout",
          "text": [
            "Running Gradio in a Colab notebook requires sharing enabled. Automatically setting `share=True` (you can turn this off by setting `share=False` in `launch()` explicitly).\n",
            "\n",
            "Colab notebook detected. To show errors in colab notebook, set debug=True in launch()\n",
            "* Running on public URL: https://73681132a0ab201ff3.gradio.live\n",
            "\n",
            "This share link expires in 72 hours. For free permanent hosting and GPU upgrades, run `gradio deploy` from the terminal in the working directory to deploy to Hugging Face Spaces (https://huggingface.co/spaces)\n"
          ]
        },
        {
          "output_type": "display_data",
          "data": {
            "text/plain": [
              "<IPython.core.display.HTML object>"
            ],
            "text/html": [
              "<div><iframe src=\"https://73681132a0ab201ff3.gradio.live\" width=\"100%\" height=\"500\" allow=\"autoplay; camera; microphone; clipboard-read; clipboard-write;\" frameborder=\"0\" allowfullscreen></iframe></div>"
            ]
          },
          "metadata": {}
        },
        {
          "output_type": "execute_result",
          "data": {
            "text/plain": []
          },
          "metadata": {},
          "execution_count": 3
        }
      ],
      "source": [
        "# 📦 Install necessary packages\n",
        "!pip install -q groq gradio\n",
        "\n",
        "# 🔑 Import libraries and set API key\n",
        "import groq\n",
        "import gradio as gr\n",
        "\n",
        "# Set your Groq API key\n",
        "groq_client = groq.Groq(api_key=\"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\")  # ← replace this\n",
        "\n",
        "# 🧠 Core function\n",
        "def generate_title(topic, field, style):\n",
        "    prompt = f\"\"\"\n",
        "You are a helpful AI assistant. Generate 5 strong technical research paper titles.\n",
        "\n",
        "Topic: {topic}\n",
        "Field: {field}\n",
        "Style: {style}\n",
        "\n",
        "List the titles clearly like this:\n",
        "1. ...\n",
        "2. ...\n",
        "3. ...\n",
        "4. ...\n",
        "5. ...\n",
        "\"\"\"\n",
        "    try:\n",
        "        response = groq_client.chat.completions.create(\n",
        "            model=\"llama3-8b-8192\",  # or try llama3-70b-8192 for smarter results\n",
        "            messages=[{\"role\": \"user\", \"content\": prompt}],\n",
        "            temperature=0.7,\n",
        "        )\n",
        "        return response.choices[0].message.content.strip()\n",
        "    except Exception as e:\n",
        "        return f\"❌ Error: {e}\"\n",
        "\n",
        "# 🎨 UI using Gradio\n",
        "with gr.Blocks(theme=gr.themes.Base()) as app:\n",
        "    gr.Markdown(\"## 📄 Technical Paper Title Generator\")\n",
        "    gr.Markdown(\"Enter your topic, pick a field and style, and get 5 paper-worthy titles.\")\n",
        "\n",
        "    with gr.Row():\n",
        "        topic = gr.Textbox(label=\"🔬 Topic\", placeholder=\"e.g. Graph Neural Networks for traffic prediction\")\n",
        "    with gr.Row():\n",
        "        field = gr.Dropdown([\"Computer Science\", \"Physics\", \"Biotech\", \"Robotics\", \"AI\", \"Other\"],\n",
        "                            value=\"AI\", label=\"📚 Research Field\")\n",
        "        style = gr.Dropdown([\"Formal\", \"Catchy\", \"Academic\", \"Minimalistic\"],\n",
        "                            value=\"Academic\", label=\"🖋️ Title Style\")\n",
        "\n",
        "    output = gr.Textbox(label=\"🎯 Suggested Titles\", lines=6)\n",
        "    btn = gr.Button(\"🚀 Generate Titles\")\n",
        "    btn.click(fn=generate_title, inputs=[topic, field, style], outputs=output)\n",
        "\n",
        "# 🚪 Launch the app\n",
        "app.launch()\n"
      ]
    },
    {
      "cell_type": "code",
      "source": [],
      "metadata": {
        "id": "Nlp_wvTnIXfx"
      },
      "execution_count": null,
      "outputs": []
    }
  ]
}